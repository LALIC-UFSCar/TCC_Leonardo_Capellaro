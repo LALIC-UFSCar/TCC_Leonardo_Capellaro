{
 "cells": [
  {
   "cell_type": "code",
   "execution_count": null,
   "metadata": {},
   "outputs": [],
   "source": [
    "import numpy as np\n",
    "import pandas as pd\n",
    "import spacy\n",
    "import nltk\n",
    "import re\n",
    "from nltk.tokenize import word_tokenize\n",
    "from nltk import pos_tag\n",
    "from nltk.corpus import stopwords\n",
    "from nltk.stem import WordNetLemmatizer\n",
    "from sklearn.preprocessing import LabelEncoder\n",
    "from collections import defaultdict\n",
    "from nltk.corpus import wordnet as wn\n",
    "from sklearn.feature_extraction.text import TfidfVectorizer\n",
    "from sklearn import model_selection, naive_bayes, svm\n",
    "from sklearn.metrics import accuracy_score\n",
    "from sklearn.metrics import accuracy_score, f1_score, precision_score, recall_score, classification_report, confusion_matrix\n",
    "from spacy.lang.pt.examples import sentences"
   ]
  },
  {
   "cell_type": "code",
   "execution_count": null,
   "metadata": {},
   "outputs": [],
   "source": [
    "nltk.download('punkt')\n",
    "nltk.download('wordnet')\n",
    "nltk.download('averaged_perceptron_tagger')\n",
    "nltk.download('stopwords')"
   ]
  },
  {
   "cell_type": "code",
   "execution_count": null,
   "metadata": {},
   "outputs": [],
   "source": [
    "np.random.seed(500)\n",
    "nlp = spacy.load('pt_core_news_sm')"
   ]
  },
  {
   "cell_type": "code",
   "execution_count": null,
   "metadata": {},
   "outputs": [],
   "source": [
    "#Seleciona a linguagem do corretor para português e seleciona o dicionário personalizado.\n",
    "import re\n",
    "#spell.word_frequency.load_text_file('palavras.txt')\n",
    "\n",
    "def removePontuacao(sentenca): \n",
    "    sentenca = re.sub(u'[^a-zA-ZáéíóúÁÉÍÓÚâêîôÂÊÎÔãõÃÕçÇ: ]', r' ',sentenca)\n",
    "    sentenca = re.sub(r'[?|!|\\'|\"|#]',r'',sentenca)\n",
    "    sentenca = re.sub(r'[.|,|)|(|\\|/]',r' ',sentenca)\n",
    "    sentenca = sentenca.replace(\"\\n\",\" \")\n",
    "    return sentenca\n",
    "\n",
    "def removeruidos(sentenca):\n",
    "    #sentenca = sentenca.replace(\"username\",\"\")\n",
    "    sentenca = sentenca.replace(\"hashtag\",\"\")\n",
    "    sentenca = sentenca.replace(\"retweeet\",\"\")\n",
    "    return sentenca\n",
    "\n",
    "def corrige_internetes(sentenca):\n",
    "    norm = normaliser.Normaliser(sanitize = True, capitalize_inis=True, capitalize_pns=True, capitalize_acs=True)\n",
    "    norm_sentence = norm.normalise(sentenca)\n",
    "    return norm_sentence\n",
    "\n",
    "def deEmojify(sentenca):\n",
    "    regrex_pattern = re.compile(pattern = \"[\"\n",
    "        u\"\\U0001F600-\\U0001F64F\"  # emoticons\n",
    "        u\"\\U0001F300-\\U0001F5FF\"  # symbols & pictographs\n",
    "        u\"\\U0001F680-\\U0001F6FF\"  # transport & map symbols\n",
    "        u\"\\U0001F1E0-\\U0001F1FF\"  # flags (iOS)\n",
    "                           \"]+\", flags = re.UNICODE)\n",
    "    return regrex_pattern.sub(r'',sentenca)"
   ]
  },
  {
   "cell_type": "code",
   "execution_count": null,
   "metadata": {},
   "outputs": [],
   "source": [
    "Corpus = pd.read_csv(r\"tweets_eleicao_enelvo_raw.csv\",encoding='utf-8')"
   ]
  },
  {
   "cell_type": "code",
   "execution_count": null,
   "metadata": {},
   "outputs": [],
   "source": [
    "Corpus[\"text\"] = Corpus[\"text\"].apply(lambda x: removeruidos(x))\n",
    "Corpus[\"text\"] = Corpus[\"text\"].apply(lambda x: deEmojify(x))"
   ]
  },
  {
   "cell_type": "code",
   "execution_count": null,
   "metadata": {},
   "outputs": [],
   "source": [
    "Corpus.columns = ['index', 'user', 'Tweet', 'Polaridade', 'Localizacao']"
   ]
  },
  {
   "cell_type": "code",
   "execution_count": null,
   "metadata": {},
   "outputs": [],
   "source": [
    "#PRÉ-PROCESSAMENTO\n",
    "# Remover linhas vazias.\n",
    "#Corpus['Tweet'].dropna(inplace=True)"
   ]
  },
  {
   "cell_type": "code",
   "execution_count": null,
   "metadata": {},
   "outputs": [],
   "source": [
    "# Padroniza todo o texto em caixa baixa (letras minúsculas)\n",
    "#Corpus['Tweet'] = [entry.lower() for entry in Corpus['Tweet']]"
   ]
  },
  {
   "cell_type": "code",
   "execution_count": null,
   "metadata": {},
   "outputs": [],
   "source": [
    "# Remove @RT de retweets\n",
    "#Corpus['Tweet'] = [re.sub(r'^RT[\\s]+', '', entry) for entry in Corpus['Tweet']]"
   ]
  },
  {
   "cell_type": "code",
   "execution_count": null,
   "metadata": {},
   "outputs": [],
   "source": [
    "# Remove hiperlinks\n",
    "#Corpus['Tweet'] = [re.sub(r'https?:\\/\\/.*[\\r\\n]*', '', entry) for entry in Corpus['Tweet']]"
   ]
  },
  {
   "cell_type": "code",
   "execution_count": null,
   "metadata": {},
   "outputs": [],
   "source": [
    "Corpus"
   ]
  },
  {
   "cell_type": "code",
   "execution_count": null,
   "metadata": {},
   "outputs": [],
   "source": [
    "corpus_bert = Corpus.copy()"
   ]
  },
  {
   "cell_type": "code",
   "execution_count": null,
   "metadata": {},
   "outputs": [],
   "source": [
    "# Tokenização: Cada tweet é dividido em um array de palavras\n",
    "Corpus['Tweet']= [word_tokenize(entry) for entry in Corpus['Tweet']]"
   ]
  },
  {
   "cell_type": "code",
   "execution_count": null,
   "metadata": {},
   "outputs": [],
   "source": [
    "Corpus"
   ]
  },
  {
   "cell_type": "code",
   "execution_count": null,
   "metadata": {},
   "outputs": [],
   "source": [
    "# Remover stop-words e aplicar stemming\n",
    "# WordNetLemmatizer requires Pos tags to understand if the word is noun or verb or adjective etc. By default it is set to Noun\n",
    "tag_map = defaultdict(lambda : wn.NOUN)\n",
    "tag_map['J'] = wn.ADJ\n",
    "tag_map['V'] = wn.VERB\n",
    "tag_map['R'] = wn.ADV\n",
    "for index,entry in enumerate(Corpus['Tweet']):\n",
    "    # Declaring Empty List to store the words that follow the rules for this step\n",
    "    Final_words = []\n",
    "    # Initializing WordNetLemmatizer()\n",
    "    word_Lemmatized = WordNetLemmatizer()\n",
    "    # pos_tag function below will provide the 'tag' i.e if the word is Noun(N) or Verb(V) or something else.\n",
    "    for word, tag in pos_tag(entry):\n",
    "        # Below condition is to check for Stop words and consider only alphabets\n",
    "        if word not in stopwords.words('portuguese') and word.isalpha():\n",
    "            word_Final = word_Lemmatized.lemmatize(word,tag_map[tag[0]])\n",
    "            Final_words.append(word_Final)\n",
    "    # The final processed set of words for each iteration will be stored in 'text_final'\n",
    "    Final_words = [token.lemma_ for token in nlp(str(Final_words)) if token.pos_ == 'VERB']\n",
    "    Corpus.loc[index,'text_final'] = str(Final_words)\n",
    "    #print([token.lemma_ for token in nlp(str(Final_words)) if token.pos_ == 'VERB'])\n",
    "#print(token.lemma_ for token in Corpus['Tweet'] if token.pos_ == 'VERB')\n",
    "#print(Corpus['text_final'])"
   ]
  },
  {
   "cell_type": "code",
   "execution_count": null,
   "metadata": {},
   "outputs": [],
   "source": [
    "Train_X, Test_X, Train_Y, Test_Y = model_selection.train_test_split(Corpus['text_final'],Corpus['Polaridade'],test_size=0.1, random_state=2020)"
   ]
  },
  {
   "cell_type": "code",
   "execution_count": null,
   "metadata": {},
   "outputs": [],
   "source": [
    "Encoder = LabelEncoder()\n",
    "Train_Y = Encoder.fit_transform(Train_Y)\n",
    "Test_Y = Encoder.fit_transform(Test_Y)"
   ]
  },
  {
   "cell_type": "code",
   "execution_count": null,
   "metadata": {},
   "outputs": [],
   "source": [
    "#Padrões TF-IDF\n",
    "Tfidf_vect = TfidfVectorizer(max_features=5000)\n",
    "Tfidf_vect.fit(Corpus['text_final'])\n",
    "Train_X_Tfidf = Tfidf_vect.transform(Train_X)\n",
    "Test_X_Tfidf = Tfidf_vect.transform(Test_X)"
   ]
  },
  {
   "cell_type": "code",
   "execution_count": null,
   "metadata": {},
   "outputs": [],
   "source": [
    "#print(Tfidf_vect.vocabulary_)\n",
    "\n",
    "#print(Train_X_Tfidf)\n",
    "\n",
    "# ajustar o conjunto de dados de treinamento no classificador NB\n",
    "Naive = naive_bayes.MultinomialNB()\n",
    "Naive.fit(Train_X_Tfidf,Train_Y)\n",
    "# prever os rótulos no conjunto de dados de validação\n",
    "predictions_NB = Naive.predict(Test_X_Tfidf)"
   ]
  },
  {
   "cell_type": "code",
   "execution_count": null,
   "metadata": {},
   "outputs": [],
   "source": [
    "#imprimir na tela a acurácia, f-measure, precisão e recall\n",
    "print(\"Naive Bayes Accuracy: \",accuracy_score(predictions_NB, Test_Y)*100)\n",
    "print(\"Naive Bayes F-Measure: \",f1_score(predictions_NB, Test_Y, average=\"macro\")*100)\n",
    "print(\"Naive Bayes Precision: \",precision_score(predictions_NB, Test_Y, average=\"macro\")*100)\n",
    "print(\"Naive Bayes Recall: \",recall_score(predictions_NB, Test_Y, average=\"macro\")*100)"
   ]
  },
  {
   "cell_type": "code",
   "execution_count": null,
   "metadata": {},
   "outputs": [],
   "source": [
    "# Classificador SVM\n",
    "# ajustar o conjunto de dados de treinamento no classificador SVM\n",
    "SVM = svm.SVC(C=1.0, kernel='linear', degree=3, gamma='auto')\n",
    "SVM.fit(Train_X_Tfidf,Train_Y)\n",
    "# prever os rótulos no conjunto de dados de validação\n",
    "predictions_SVM = SVM.predict(Test_X_Tfidf)"
   ]
  },
  {
   "cell_type": "code",
   "execution_count": null,
   "metadata": {},
   "outputs": [],
   "source": [
    "#imprimir na tela a acurácia, f-measure, precisão e recall\n",
    "print(\"SVM Accuracy: \",accuracy_score(predictions_SVM, Test_Y)*100)\n",
    "print(\"SVM F-Measure: \",f1_score(predictions_SVM, Test_Y, average=\"macro\")*100)\n",
    "print(\"SVM Precision: \",precision_score(predictions_SVM, Test_Y, average=\"macro\")*100)\n",
    "print(\"SVM Recall: \",recall_score(predictions_SVM, Test_Y, average=\"macro\")*100)"
   ]
  },
  {
   "cell_type": "code",
   "execution_count": null,
   "metadata": {},
   "outputs": [],
   "source": [
    "corpus_bert.columns = ['user', 'text', 'sentiment', 'location']"
   ]
  },
  {
   "cell_type": "code",
   "execution_count": null,
   "metadata": {},
   "outputs": [],
   "source": [
    "corpus_bert"
   ]
  },
  {
   "cell_type": "code",
   "execution_count": null,
   "metadata": {},
   "outputs": [],
   "source": [
    "corpus_bert[\"sentiment\"] = corpus_bert[\"sentiment\"].replace(\"Positivo\", \"Positiva\")\n",
    "corpus_bert[\"sentiment\"] = corpus_bert[\"sentiment\"].replace(\"Neutro\", \"Neutra\")\n",
    "corpus_bert[\"sentiment\"] = corpus_bert[\"sentiment\"].replace(\"Negativo\", \"Negativa\")"
   ]
  }
 ],
 "metadata": {
  "kernelspec": {
   "display_name": "Python 3",
   "language": "python",
   "name": "python3"
  },
  "language_info": {
   "codemirror_mode": {
    "name": "ipython",
    "version": 3
   },
   "file_extension": ".py",
   "mimetype": "text/x-python",
   "name": "python",
   "nbconvert_exporter": "python",
   "pygments_lexer": "ipython3",
   "version": "3.8.5"
  }
 },
 "nbformat": 4,
 "nbformat_minor": 4
}
