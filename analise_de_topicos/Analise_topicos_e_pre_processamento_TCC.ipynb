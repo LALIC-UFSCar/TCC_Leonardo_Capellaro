{
 "cells": [
  {
   "cell_type": "markdown",
   "metadata": {
    "id": "7jo3uJgJ2DhB"
   },
   "source": [
    "# Análise de Tópicos - BERTopic\n",
    "\n"
   ]
  },
  {
   "cell_type": "code",
   "execution_count": null,
   "metadata": {
    "id": "tGVMHSE8z5PZ"
   },
   "outputs": [],
   "source": [
    "from bertopic import BERTopic\n",
    "from sklearn.datasets import fetch_20newsgroups\n",
    "import pandas as pd\n",
    "import re\n",
    "import torch\n",
    "import itertools\n",
    "import nltk\n",
    "\n",
    "\n",
    "#Importando bibliotecas\n",
    "import re\n",
    "from wordcloud import WordCloud, STOPWORDS, ImageColorGenerator\n",
    "from os import path\n",
    "import matplotlib.pyplot as plt"
   ]
  },
  {
   "cell_type": "code",
   "execution_count": null,
   "metadata": {
    "id": "elzGTjgFcTSm"
   },
   "outputs": [],
   "source": [
    "df_topic = pd.read_csv('df_final.csv')"
   ]
  },
  {
   "cell_type": "code",
   "execution_count": null,
   "metadata": {},
   "outputs": [],
   "source": [
    "nltk.download('stopwords',quiet=True)\n",
    "nltk.download('averaged_perceptron_tagger',quiet=True)\n",
    "nltk.download('wordnet',quiet=True)\n",
    "nltk.download('vader_lexicon',quiet=True)\n",
    "nltk.download('punkt', quiet = True)"
   ]
  },
  {
   "cell_type": "code",
   "execution_count": null,
   "metadata": {
    "id": "F8p1N5bCCiOL"
   },
   "outputs": [],
   "source": [
    "def is_vow(c):\n",
    "    return ((c == 'a') or (c == 'e') or \n",
    "            (c == 'i') or (c == 'o') or \n",
    "            (c == 'u'));\n",
    "  \n",
    "# function to print resultant string\n",
    "def removeVowels(str):\n",
    "    result = []\n",
    "  \n",
    "    try:\n",
    "        result.append(str[0])\n",
    "    except:\n",
    "        pass\n",
    "  \n",
    "    # loop to check for each character\n",
    "    for i in range(1,len(str)):\n",
    "  \n",
    "        # comparison of consecutive\n",
    "        # characters\n",
    "            \n",
    "        if ((str[i-1] == str[i]) and (is_vow(str[i-1]) == True) and (is_vow(str[i]) == True)):\n",
    "            pass\n",
    "        else:\n",
    "            result.append(str[i])\n",
    "            #print(str[i])\n",
    "            \n",
    "    str1 = ''.join(result)\n",
    "    return str1\n",
    "\n",
    "def corrige_internetes(sentenca):\n",
    "\n",
    "    sentenca = re.sub(r'^RT[\\s]+', '', str(sentenca))\n",
    "    sentenca = re.sub(r\"(?:\\@|https?\\://)\\S+\", \"\", str(sentenca))\n",
    "    sentenca = re.sub(\"4ogers\", \" \", str(sentenca))\n",
    "    sentenca = re.sub(\"distribuindo\", \" \", str(sentenca))\n",
    "    sentenca = re.sub(\"distribuição\", \" \", str(sentenca))\n",
    "    sentenca = re.sub(\"dist\", \" \", str(sentenca))\n",
    "    sentenca = re.sub(\"\\n\",\" \", sentenca)\n",
    "    sentenca = removeVowels(sentenca)\n",
    "\n",
    "    return sentenca\n",
    "\n",
    "def clean_text(text):\n",
    "    import string\n",
    "    from nltk.corpus import stopwords\n",
    "    from nltk import pos_tag\n",
    "    from nltk.tokenize import WhitespaceTokenizer\n",
    "    from nltk.stem import WordNetLemmatizer\n",
    "    \n",
    "    #Passa todos os caracteres do texto para minúsculo.\n",
    "    text = text.lower()\n",
    "    \n",
    "    #As pontuações foram removidas e os textos foram separados por palavras.\n",
    "    text = [word.strip(string.punctuation) for word in text.split(\" \")]\n",
    "    \n",
    "    #Remove palavras que contém números\n",
    "    text = [word for word in text if not any(c.isdigit() for c in word)]\n",
    "    \n",
    "    #Remove stopwords como the, a, that, dentre outras.\n",
    "    stop = stopwords.words('portuguese')\n",
    "    text = [x for x in text if x not in stop]\n",
    "    \n",
    "    #Remove tokens vazios.\n",
    "    text = [t for t in text if len(t) > 0]\n",
    "    \n",
    "    #Faz a lematização dos textos, transformando as palavras em sua forma original.\n",
    "    #text = [WordNetLemmatizer().lemmatize(t[0], get_wordnet_pos(t[1])) for t in pos_tags]\n",
    "    \n",
    "    #Remove palavras com apenas uma letra.\n",
    "    text = [t for t in text if len(t) > 1]\n",
    "    \n",
    "    #Junta tudo de volta.\n",
    "    text = \" \".join(text)\n",
    "    return(text)"
   ]
  },
  {
   "cell_type": "code",
   "execution_count": null,
   "metadata": {
    "id": "LAkOM3uFAF2f"
   },
   "outputs": [],
   "source": [
    "df_topic = df_topic[df_topic['Polaridade'].notna()]"
   ]
  },
  {
   "cell_type": "code",
   "execution_count": null,
   "metadata": {
    "colab": {
     "base_uri": "https://localhost:8080/",
     "height": 419
    },
    "id": "akqjSydiAc73",
    "outputId": "a420d051-adfc-4c9a-a0e0-c435b57b4337"
   },
   "outputs": [],
   "source": [
    "df_topic"
   ]
  },
  {
   "cell_type": "code",
   "execution_count": null,
   "metadata": {
    "id": "T7G7dWRnDCq5"
   },
   "outputs": [],
   "source": [
    "df_topic[\"Mensagem\"] = df_topic[\"Mensagem\"].apply(lambda x: str(x).lower())\n",
    "df_topic[\"Mensagem\"] = df_topic[\"Mensagem\"].apply(lambda x: corrige_internetes(str(x)))\n",
    "df_topic[\"Mensagem\"] = df_topic[\"Mensagem\"].apply(lambda x: clean_text(str(x)))"
   ]
  },
  {
   "cell_type": "code",
   "execution_count": null,
   "metadata": {
    "id": "EGWoENYNAgWO"
   },
   "outputs": [],
   "source": [
    "bolsonaro = df_topic[df_topic[\"candidato\"] == 'bolsonaro']\n",
    "bolsonaro_positivo = bolsonaro[bolsonaro[\"Polaridade\"] == 'Positiva']\n",
    "bolsonaro_negativo = bolsonaro[bolsonaro[\"Polaridade\"] == 'Negativa']\n",
    "\n",
    "haddad = df_topic[df_topic[\"candidato\"] == 'haddad']\n",
    "haddad_positivo = haddad[haddad[\"Polaridade\"] == 'Positiva']\n",
    "haddad_negativo = haddad[haddad[\"Polaridade\"] == 'Negativa']"
   ]
  },
  {
   "cell_type": "code",
   "execution_count": null,
   "metadata": {
    "colab": {
     "base_uri": "https://localhost:8080/",
     "height": 419
    },
    "id": "a4dpTW-sB543",
    "outputId": "d9f84e97-9193-496f-de15-1fc3524978be"
   },
   "outputs": [],
   "source": [
    "haddad_positivo"
   ]
  },
  {
   "cell_type": "code",
   "execution_count": null,
   "metadata": {
    "colab": {
     "base_uri": "https://localhost:8080/",
     "height": 419
    },
    "id": "koHu2Ib7DeqD",
    "outputId": "2e197c35-5c6d-4857-89a7-d1f5b200b5e1"
   },
   "outputs": [],
   "source": [
    "haddad_negativo"
   ]
  },
  {
   "cell_type": "code",
   "execution_count": null,
   "metadata": {
    "colab": {
     "base_uri": "https://localhost:8080/",
     "height": 419
    },
    "id": "QoP8TsEpDkdk",
    "outputId": "cae8630a-5817-4a00-8c66-c16c3e8b33d0"
   },
   "outputs": [],
   "source": [
    "bolsonaro_positivo"
   ]
  },
  {
   "cell_type": "code",
   "execution_count": null,
   "metadata": {
    "colab": {
     "base_uri": "https://localhost:8080/",
     "height": 419
    },
    "id": "z2_6SDWjDmQQ",
    "outputId": "247e8569-9584-484e-c21a-4cd64a81a7ae"
   },
   "outputs": [],
   "source": [
    "bolsonaro_negativo"
   ]
  },
  {
   "cell_type": "code",
   "execution_count": null,
   "metadata": {
    "id": "2uiGkpr4Dpez"
   },
   "outputs": [],
   "source": [
    "list_bolsoneg = bolsonaro_negativo['Mensagem'].tolist()\n",
    "list_bolsopos = bolsonaro_positivo['Mensagem'].tolist()\n",
    "\n",
    "list_haddadneg = haddad_negativo['Mensagem'].tolist()\n",
    "list_haddadpos = haddad_positivo['Mensagem'].tolist()"
   ]
  },
  {
   "cell_type": "code",
   "execution_count": null,
   "metadata": {
    "colab": {
     "base_uri": "https://localhost:8080/",
     "height": 323
    },
    "id": "enMWC1nXEj6I",
    "outputId": "0af9654e-4b99-464c-c247-621f3c3c8707"
   },
   "outputs": [],
   "source": [
    "topic_model_bolsopos = BERTopic(embedding_model='neuralmind/bert-large-portuguese-cased', nr_topics=20)"
   ]
  },
  {
   "cell_type": "code",
   "execution_count": null,
   "metadata": {},
   "outputs": [],
   "source": [
    "topic_model_bolsoneg = BERTopic(embedding_model='neuralmind/bert-large-portuguese-cased', nr_topics=20)"
   ]
  },
  {
   "cell_type": "code",
   "execution_count": null,
   "metadata": {},
   "outputs": [],
   "source": [
    "topic_model_haddpos = BERTopic(embedding_model='neuralmind/bert-large-portuguese-cased', nr_topics=20)"
   ]
  },
  {
   "cell_type": "code",
   "execution_count": null,
   "metadata": {},
   "outputs": [],
   "source": [
    "topic_model_haddneg = BERTopic(embedding_model='neuralmind/bert-large-portuguese-cased', nr_topics=20)"
   ]
  },
  {
   "cell_type": "code",
   "execution_count": null,
   "metadata": {},
   "outputs": [],
   "source": [
    "topics_bolsopos, probs_bolsopos = topic_model_bolsopos.fit_transform(list_bolsopos)"
   ]
  },
  {
   "cell_type": "code",
   "execution_count": null,
   "metadata": {},
   "outputs": [],
   "source": [
    "topics_bolsoneg, probs_bolsoneg = topic_model_bolsoneg.fit_transform(list_bolsoneg)"
   ]
  },
  {
   "cell_type": "code",
   "execution_count": null,
   "metadata": {},
   "outputs": [],
   "source": [
    "topics_haddpos, probs_haddpos = topic_model_haddpos.fit_transform(list_haddadpos)"
   ]
  },
  {
   "cell_type": "code",
   "execution_count": null,
   "metadata": {},
   "outputs": [],
   "source": [
    "topics_haddneg, probs_haddneg = topic_model_haddneg.fit_transform(list_haddadneg)"
   ]
  },
  {
   "cell_type": "code",
   "execution_count": null,
   "metadata": {},
   "outputs": [],
   "source": [
    "topic_model_bolsopos.visualize_topics()"
   ]
  },
  {
   "cell_type": "code",
   "execution_count": null,
   "metadata": {},
   "outputs": [],
   "source": [
    "topic_model_bolsoneg.visualize_topics()"
   ]
  },
  {
   "cell_type": "code",
   "execution_count": null,
   "metadata": {},
   "outputs": [],
   "source": [
    "topic_model_bolsopos.get_topic_info()"
   ]
  },
  {
   "cell_type": "code",
   "execution_count": null,
   "metadata": {},
   "outputs": [],
   "source": [
    "topic_model_bolsoneg.visualize_barchart(top_n_topics=9)"
   ]
  },
  {
   "cell_type": "code",
   "execution_count": null,
   "metadata": {
    "scrolled": false
   },
   "outputs": [],
   "source": [
    "#df_bolsoneg = df = pd.DataFrame()\n",
    "#for i in range(946):\n",
    "#    aux = pd.DataFrame(topic_model_bolsoneg.get_topic(i), columns=[[\"topico\", \"prob\"]])\n",
    "#    aux['topic_num'] = i\n",
    "#    df_bolsoneg = pd.concat([df_bolsoneg, aux])\n",
    "#    \n",
    "#df_bolsoneg.reset_index(inplace=True)"
   ]
  },
  {
   "cell_type": "code",
   "execution_count": null,
   "metadata": {},
   "outputs": [],
   "source": [
    "#df_bolsopos = df = pd.DataFrame()\n",
    "#for i in range(1585):\n",
    "#    aux = pd.DataFrame(topic_model_bolsopos.get_topic(i), columns=[[\"topico\", \"prob\"]])\n",
    "#    aux['topic_num'] = i\n",
    "#    df_bolsopos = pd.concat([df_bolsopos, aux])\n",
    "#    \n",
    "#df_bolsopos.reset_index(inplace=True)"
   ]
  },
  {
   "cell_type": "code",
   "execution_count": null,
   "metadata": {},
   "outputs": [],
   "source": [
    "#df_haddpos = df = pd.DataFrame()\n",
    "#for i in range(1300):\n",
    "#    aux = pd.DataFrame(topic_model_haddpos.get_topic(i), columns=[[\"topico\", \"prob\"]])\n",
    "#    aux['topic_num'] = i\n",
    "#    df_haddpos = pd.concat([df_haddpos, aux])\n",
    "#    \n",
    "#df_haddpos.reset_index(inplace=True)"
   ]
  },
  {
   "cell_type": "code",
   "execution_count": null,
   "metadata": {},
   "outputs": [],
   "source": [
    "#df_haddneg = df = pd.DataFrame()\n",
    "#for i in range(511):\n",
    "#    aux = pd.DataFrame(topic_model_haddneg.get_topic(i), columns=[[\"topico\", \"prob\"]])\n",
    "#    aux['topic_num'] = i\n",
    "#    df_haddneg = pd.concat([df_haddneg, aux])\n",
    "#    \n",
    "#df_haddneg.reset_index(inplace=True)"
   ]
  },
  {
   "cell_type": "code",
   "execution_count": null,
   "metadata": {},
   "outputs": [],
   "source": [
    "#df_bolsoneg.to_excel('bolsonaro_topicos_negativos.xlsx')\n",
    "#df_bolsopos.to_excel('bolsonaro_topicos_positivos.xlsx')\n",
    "#df_haddneg.to_excel('haddad_topicos_negativos.xlsx')\n",
    "#df_haddpos.to_excel('haddad_topicos_positivos.xlsx')"
   ]
  }
 ],
 "metadata": {
  "accelerator": "GPU",
  "colab": {
   "collapsed_sections": [],
   "name": "Analise_topicos_TCC.ipynb",
   "provenance": []
  },
  "kernelspec": {
   "display_name": "Python 3",
   "language": "python",
   "name": "python3"
  },
  "language_info": {
   "codemirror_mode": {
    "name": "ipython",
    "version": 3
   },
   "file_extension": ".py",
   "mimetype": "text/x-python",
   "name": "python",
   "nbconvert_exporter": "python",
   "pygments_lexer": "ipython3",
   "version": "3.8.5"
  }
 },
 "nbformat": 4,
 "nbformat_minor": 1
}
